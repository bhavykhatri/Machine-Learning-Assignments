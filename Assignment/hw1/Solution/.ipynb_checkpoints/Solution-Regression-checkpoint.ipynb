{
 "cells": [
  {
   "cell_type": "markdown",
   "metadata": {},
   "source": [
    "## Computing $\\mu$ using regression"
   ]
  },
  {
   "cell_type": "code",
   "execution_count": 1,
   "metadata": {},
   "outputs": [],
   "source": [
    "import numpy as np\n",
    "from numpy import linalg as LA\n",
    "from numpy.linalg import inv\n",
    "import matplotlib.pyplot as plt\n",
    "from sklearn.metrics import confusion_matrix\n",
    "import itertools"
   ]
  },
  {
   "cell_type": "code",
   "execution_count": 2,
   "metadata": {},
   "outputs": [],
   "source": [
    "FEATURE = 4096\n",
    "CLASSES = 50\n",
    "SEEN = 40\n",
    "UNSEEN = 10\n",
    "ATTRIBUTE = 85"
   ]
  },
  {
   "cell_type": "code",
   "execution_count": 3,
   "metadata": {},
   "outputs": [],
   "source": [
    "X_test = np.load('/home/bhavy/Dropbox/7th semester/courses/ML/Assignments/Assignment/hw1/Dataset-Q6/AwA_python/Xtest.npy', encoding = 'latin1')\n",
    "Y_test=np.load('/home/bhavy/Dropbox/7th semester/courses/ML/Assignments/Assignment/hw1/Dataset-Q6/AwA_python/Ytest.npy', encoding = 'latin1')\n",
    "X_seen = np.load('/home/bhavy/Dropbox/7th semester/courses/ML/Assignments/Assignment/hw1/Dataset-Q6/AwA_python/X_seen.npy', encoding = 'latin1')\n",
    "class_attributes_seen=np.load('/home/bhavy/Dropbox/7th semester/courses/ML/Assignments/Assignment/hw1/Dataset-Q6/AwA_python/class_attributes_seen.npy', encoding = 'latin1')\n",
    "class_attributes_unseen=np.load('/home/bhavy/Dropbox/7th semester/courses/ML/Assignments/Assignment/hw1/Dataset-Q6/AwA_python/class_attributes_unseen.npy', encoding = 'latin1')"
   ]
  },
  {
   "cell_type": "code",
   "execution_count": 4,
   "metadata": {},
   "outputs": [],
   "source": [
    "def compute_mu(mu):\n",
    "    for i in range(SEEN):\n",
    "        single_class_data = X_seen[i]\n",
    "        mu[i] = np.mean(single_class_data, axis = 0)"
   ]
  },
  {
   "cell_type": "code",
   "execution_count": 5,
   "metadata": {},
   "outputs": [],
   "source": [
    "def compute_W(W, mu, As, lamb):\n",
    "    W = np.matmul(LA.inv( np.matmul(np.transpose(As),As) +  lamb*np.identity(ATTRIBUTE))  ,np.matmul( np.transpose(As),mu[0:SEEN, :] ))\n",
    "    return W"
   ]
  },
  {
   "cell_type": "code",
   "execution_count": 6,
   "metadata": {},
   "outputs": [],
   "source": [
    "def compute_unseen_mu(W, mu):\n",
    "    mu[SEEN:CLASSES, :] = np.transpose(np.matmul(np.transpose(W),np.transpose(class_attributes_unseen)))"
   ]
  },
  {
   "cell_type": "code",
   "execution_count": 7,
   "metadata": {},
   "outputs": [],
   "source": [
    "def prototype_prediction(X_test, mu):\n",
    "    flag = np.zeros( ( X_test.shape[0], UNSEEN) )\n",
    "    Y_pred = np.zeros(( X_test.shape[0], 1))\n",
    "    for i in range(UNSEEN):\n",
    "        flag[:, i] = LA.norm(X_test - mu[SEEN + i, :], axis =  1)\n",
    "    Y_pred = np.argmin(flag, axis = 1)  +1\n",
    "    return Y_pred"
   ]
  },
  {
   "cell_type": "code",
   "execution_count": 8,
   "metadata": {},
   "outputs": [],
   "source": [
    "def accuracy(Y_pred, Y_test):\n",
    "    return np.array(Y_pred  == Y_test, dtype=int).mean()"
   ]
  },
  {
   "cell_type": "code",
   "execution_count": 9,
   "metadata": {},
   "outputs": [],
   "source": [
    "def prediction_for_lambdas( lamb):\n",
    "    acc = []\n",
    "    for cell in lamb:\n",
    "        W = np.zeros((ATTRIBUTE, FEATURE))\n",
    "        W = compute_W(W, mu, class_attributes_seen, cell)\n",
    "        compute_unseen_mu(W, mu)\n",
    "        Y_pred = prototype_prediction(X_test, mu).reshape(X_test.shape[0], 1)\n",
    "        acc.append(accuracy(Y_pred, Y_test)*100)\n",
    "        print (\"Accuracy of prototype classifier for lambda\", cell, \"is:\", accuracy(Y_pred, Y_test)*100, \"%\" )\n",
    "    return acc"
   ]
  },
  {
   "cell_type": "code",
   "execution_count": 10,
   "metadata": {},
   "outputs": [
    {
     "name": "stdout",
     "output_type": "stream",
     "text": [
      "Accuracy of prototype classifier for lambda 0.01 is: 58.090614886731395 %\n",
      "Accuracy of prototype classifier for lambda 0.1 is: 59.54692556634305 %\n",
      "Accuracy of prototype classifier for lambda 1 is: 67.39482200647248 %\n",
      "Accuracy of prototype classifier for lambda 10 is: 73.28478964401295 %\n",
      "Accuracy of prototype classifier for lambda 20 is: 71.68284789644012 %\n",
      "Accuracy of prototype classifier for lambda 50 is: 65.08090614886731 %\n",
      "Accuracy of prototype classifier for lambda 100 is: 56.47249190938511 %\n"
     ]
    }
   ],
   "source": [
    "mu = np.zeros((CLASSES, FEATURE))\n",
    "compute_mu(mu)\n",
    "lamb = [0.01, 0.1, 1, 10, 20, 50, 100]\n",
    "acc_lamb = []\n",
    "acc_lamb = prediction_for_lambdas( lamb)"
   ]
  },
  {
   "cell_type": "code",
   "execution_count": 11,
   "metadata": {},
   "outputs": [
    {
     "name": "stdout",
     "output_type": "stream",
     "text": [
      "Maximum Accuracy is achieved for lambda =  10\n"
     ]
    }
   ],
   "source": [
    "print (\"Maximum Accuracy is achieved for lambda = \", lamb[np.argmax(np.array(acc_lamb))])"
   ]
  },
  {
   "cell_type": "code",
   "execution_count": 12,
   "metadata": {},
   "outputs": [
    {
     "data": {
      "text/plain": [
       "Text(0,0.5,'Accuracy')"
      ]
     },
     "execution_count": 12,
     "metadata": {},
     "output_type": "execute_result"
    },
    {
     "data": {
      "image/png": "[encoded data removed]",
      "text/plain": [
       "<Figure size 432x288 with 1 Axes>"
      ]
     },
     "metadata": {},
     "output_type": "display_data"
    }
   ],
   "source": [
    "plt.plot(lamb, acc_lamb, 'go--')\n",
    "plt.xlabel('Value of lambda')\n",
    "plt.ylabel('Accuracy')"
   ]
  }
 ],
 "metadata": {
  "kernelspec": {
   "display_name": "Python 3",
   "language": "python",
   "name": "python3"
  },
  "language_info": {
   "codemirror_mode": {
    "name": "ipython",
    "version": 3
   },
   "file_extension": ".py",
   "mimetype": "text/x-python",
   "name": "python",
   "nbconvert_exporter": "python",
   "pygments_lexer": "ipython3",
   "version": "3.6.5"
  }
 },
 "nbformat": 4,
 "nbformat_minor": 2
}
