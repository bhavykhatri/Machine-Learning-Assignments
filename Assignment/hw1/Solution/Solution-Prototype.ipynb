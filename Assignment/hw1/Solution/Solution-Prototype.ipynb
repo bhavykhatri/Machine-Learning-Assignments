{
 "cells": [
  {
   "cell_type": "markdown",
   "metadata": {},
   "source": [
    "# Prototype Based Classification"
   ]
  },
  {
   "cell_type": "code",
   "execution_count": 1,
   "metadata": {},
   "outputs": [],
   "source": [
    "import numpy as np\n",
    "from numpy import linalg as LA\n",
    "import matplotlib.pyplot as plt\n",
    "from sklearn.metrics import confusion_matrix\n",
    "import itertools"
   ]
  },
  {
   "cell_type": "code",
   "execution_count": 2,
   "metadata": {},
   "outputs": [],
   "source": [
    "FEATURE = 4096\n",
    "CLASSES = 50\n",
    "SEEN = 40\n",
    "UNSEEN = 10"
   ]
  },
  {
   "cell_type": "code",
   "execution_count": 3,
   "metadata": {},
   "outputs": [],
   "source": [
    "X_test = np.load('/home/bhavy/Dropbox/7th semester/courses/ML/Assignments/Assignment/hw1/Dataset-Q6/AwA_python/Xtest.npy', encoding = 'latin1')\n",
    "Y_test=np.load('/home/bhavy/Dropbox/7th semester/courses/ML/Assignments/Assignment/hw1/Dataset-Q6/AwA_python/Ytest.npy', encoding = 'latin1')\n",
    "X_seen = np.load('/home/bhavy/Dropbox/7th semester/courses/ML/Assignments/Assignment/hw1/Dataset-Q6/AwA_python/X_seen.npy', encoding = 'latin1')\n",
    "class_attributes_seen=np.load('/home/bhavy/Dropbox/7th semester/courses/ML/Assignments/Assignment/hw1/Dataset-Q6/AwA_python/class_attributes_seen.npy', encoding = 'latin1')\n",
    "class_attributes_unseen=np.load('/home/bhavy/Dropbox/7th semester/courses/ML/Assignments/Assignment/hw1/Dataset-Q6/AwA_python/class_attributes_unseen.npy', encoding = 'latin1')"
   ]
  },
  {
   "cell_type": "code",
   "execution_count": 4,
   "metadata": {},
   "outputs": [
    {
     "data": {
      "text/plain": [
       "(40, 85)"
      ]
     },
     "execution_count": 4,
     "metadata": {},
     "output_type": "execute_result"
    }
   ],
   "source": [
    "class_attributes_seen.shape"
   ]
  },
  {
   "cell_type": "code",
   "execution_count": 5,
   "metadata": {},
   "outputs": [
    {
     "data": {
      "text/plain": [
       "array([0, 2])"
      ]
     },
     "execution_count": 5,
     "metadata": {},
     "output_type": "execute_result"
    }
   ],
   "source": [
    "a = np.array([[1, 2, 3], [4, 5, 2]])\n",
    "b = np.array([1, 2, 3])\n",
    "#np.dot(b,a)\n",
    "LA.norm(a -b, axis = 1)\n",
    "np.argmin(a - b, axis=1)"
   ]
  },
  {
   "cell_type": "code",
   "execution_count": 6,
   "metadata": {},
   "outputs": [],
   "source": [
    "def compute_mu(mu):\n",
    "    for i in range(SEEN):\n",
    "        single_class_data = X_seen[i]\n",
    "        mu[i] = np.mean(single_class_data, axis = 0)"
   ]
  },
  {
   "cell_type": "code",
   "execution_count": 7,
   "metadata": {},
   "outputs": [],
   "source": [
    "def compute_s(s):\n",
    "    for i in range(UNSEEN):\n",
    "        for j in range(SEEN):\n",
    "            s[i][j] = np.dot(class_attributes_unseen[i], class_attributes_seen[j])"
   ]
  },
  {
   "cell_type": "code",
   "execution_count": 8,
   "metadata": {},
   "outputs": [],
   "source": [
    "def normalize_s(s):\n",
    "    for i in range(UNSEEN):\n",
    "        s[i, :] = s[i, :]/s[i, :].sum()"
   ]
  },
  {
   "cell_type": "code",
   "execution_count": 9,
   "metadata": {},
   "outputs": [],
   "source": [
    "def compute_unseen_mu(mu, s):\n",
    "    for i in range(UNSEEN):\n",
    "        mu[SEEN + i] = np.dot(s[i, :], mu[0:SEEN, :])"
   ]
  },
  {
   "cell_type": "code",
   "execution_count": 10,
   "metadata": {},
   "outputs": [],
   "source": [
    "def prototype_prediction(X_test, mu):\n",
    "    flag = np.zeros( ( X_test.shape[0], UNSEEN) )\n",
    "    Y_pred = np.zeros(( X_test.shape[0], 1))\n",
    "    for i in range(UNSEEN):\n",
    "        flag[:, i] = LA.norm(X_test - mu[SEEN + i, :], axis =  1)\n",
    "    Y_pred = np.argmin(flag, axis = 1)  +1\n",
    "    return Y_pred"
   ]
  },
  {
   "cell_type": "code",
   "execution_count": 11,
   "metadata": {},
   "outputs": [],
   "source": [
    "def accuracy(Y_pred, Y_test):\n",
    "    return np.array(Y_pred  == Y_test, dtype=int).mean()"
   ]
  },
  {
   "cell_type": "code",
   "execution_count": 12,
   "metadata": {},
   "outputs": [],
   "source": [
    "def plot_confusion_matrix(cm, classes,\n",
    "                          normalize=False,\n",
    "                          title='Confusion matrix',\n",
    "                          cmap=plt.cm.Blues):\n",
    "    \"\"\"\n",
    "    This function prints and plots the confusion matrix.\n",
    "    Normalization can be applied by setting `normalize=True`.\n",
    "    \"\"\"\n",
    "    if normalize:\n",
    "        cm = cm.astype('float') / cm.sum(axis=1)[:, np.newaxis]\n",
    "        print(\"Normalized confusion matrix\")\n",
    "    else:\n",
    "        print('Confusion matrix, without normalization')\n",
    "\n",
    "    print(cm)\n",
    "\n",
    "    plt.imshow(cm, interpolation='nearest', cmap=cmap)\n",
    "    plt.title(title)\n",
    "    plt.colorbar()\n",
    "    tick_marks = np.arange(len(classes))\n",
    "    plt.xticks(tick_marks, classes, rotation=45)\n",
    "    plt.yticks(tick_marks, classes)\n",
    "\n",
    "    fmt = '.2f' if normalize else 'd'\n",
    "    thresh = cm.max() / 2.\n",
    "    for i, j in itertools.product(range(cm.shape[0]), range(cm.shape[1])):\n",
    "        plt.text(j, i, format(cm[i, j], fmt),\n",
    "                 horizontalalignment=\"center\",\n",
    "                 color=\"white\" if cm[i, j] > thresh else \"black\")\n",
    "\n",
    "    plt.tight_layout()\n",
    "    plt.ylabel('True label')\n",
    "    plt.xlabel('Predicted label')"
   ]
  },
  {
   "cell_type": "code",
   "execution_count": 13,
   "metadata": {},
   "outputs": [],
   "source": [
    "s = np.zeros((UNSEEN, SEEN))\n",
    "mu = np.zeros((CLASSES, FEATURE) )\n",
    "compute_mu(mu)\n",
    "compute_s(s)\n",
    "normalize_s(s)\n",
    "compute_unseen_mu(mu, s)"
   ]
  },
  {
   "cell_type": "code",
   "execution_count": 14,
   "metadata": {},
   "outputs": [],
   "source": [
    "Y_pred  = prototype_prediction(X_test, mu).reshape(X_test.shape[0], 1)"
   ]
  },
  {
   "cell_type": "code",
   "execution_count": 15,
   "metadata": {},
   "outputs": [
    {
     "name": "stdout",
     "output_type": "stream",
     "text": [
      "Accuracy of prototype classifier is: 46.89320388349515 %\n"
     ]
    }
   ],
   "source": [
    "print (\"Accuracy of prototype classifier is:\", accuracy(Y_pred, Y_test)*100, \"%\" )"
   ]
  },
  {
   "cell_type": "code",
   "execution_count": 16,
   "metadata": {},
   "outputs": [
    {
     "name": "stdout",
     "output_type": "stream",
     "text": [
      "Confusion matrix, without normalization\n",
      "[[597   1  79  14   1   2   0   1   5   1]\n",
      " [  3  34  32  10   6 329   6 463  46  13]\n",
      " [  1   2 287 429   0   1   0   0   2   1]\n",
      " [  0   0   0 716   0   0   0   0   0   0]\n",
      " [  9   0   3   3 582   0   2   3   4   2]\n",
      " [  0   0   0   0   1  96   1  74 541   1]\n",
      " [  5  12 140  24   4  42  76   2  18   8]\n",
      " [  8   2   0   5  13   2   0 208 395   0]\n",
      " [  1   3   1   2   0  24   1   2 261   8]\n",
      " [  0   0   5 410   2  27   0   4  20  41]]\n"
     ]
    },
    {
     "data": {
      "image/png": "[encoded data removed]",
      "text/plain": [
       "<Figure size 432x288 with 2 Axes>"
      ]
     },
     "metadata": {},
     "output_type": "display_data"
    }
   ],
   "source": [
    "cnf_matrix = confusion_matrix(Y_test, Y_pred)\n",
    "class_names = ['a', 'b', 'c', 'd', 'e', 'f', 'g', 'h', 'i', 'j']\n",
    "plot_confusion_matrix(cnf_matrix, classes=class_names,\n",
    "                      title='Confusion matrix, without normalization')"
   ]
  },
  {
   "cell_type": "markdown",
   "metadata": {},
   "source": []
  },
  {
   "cell_type": "code",
   "execution_count": null,
   "metadata": {},
   "outputs": [],
   "source": []
  }
 ],
 "metadata": {
  "kernelspec": {
   "display_name": "Python 3",
   "language": "python",
   "name": "python3"
  },
  "language_info": {
   "codemirror_mode": {
    "name": "ipython",
    "version": 3
   },
   "file_extension": ".py",
   "mimetype": "text/x-python",
   "name": "python",
   "nbconvert_exporter": "python",
   "pygments_lexer": "ipython3",
   "version": "3.6.5"
  }
 },
 "nbformat": 4,
 "nbformat_minor": 2
}
