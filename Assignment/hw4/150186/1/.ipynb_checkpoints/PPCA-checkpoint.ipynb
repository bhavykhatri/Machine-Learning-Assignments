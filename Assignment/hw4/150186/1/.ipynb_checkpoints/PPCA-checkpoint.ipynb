{
 "cells": [
  {
   "cell_type": "code",
   "execution_count": 16,
   "metadata": {},
   "outputs": [],
   "source": [
    "%matplotlib qt\n",
    "import numpy as np\n",
    "import matplotlib.pyplot as plt\n",
    "import matplotlib.image as mpimg\n",
    "import os"
   ]
  },
  {
   "cell_type": "code",
   "execution_count": 2,
   "metadata": {},
   "outputs": [],
   "source": [
    "SHAPE = (64, 64)\n",
    "kls = [10, 20, 30, 40, 50, 100]\n",
    "ITER = 100\n",
    "size_x = SHAPE[0]*SHAPE[1]\n",
    "INSTANCES = 165\n",
    "img_idx = [0, 20, 40, 60, 80]"
   ]
  },
  {
   "cell_type": "code",
   "execution_count": 3,
   "metadata": {},
   "outputs": [],
   "source": [
    "img = np.load('/home/bhavy/Dropbox/7th-semester/courses/ML/Assignments/Assignment/hw4/data/facedata_py2_3.pkl')"
   ]
  },
  {
   "cell_type": "code",
   "execution_count": 4,
   "metadata": {},
   "outputs": [],
   "source": [
    "data = img['X']"
   ]
  },
  {
   "cell_type": "code",
   "execution_count": 12,
   "metadata": {
    "scrolled": true
   },
   "outputs": [],
   "source": [
    "fig = plt.figure(1)\n",
    "fig.suptitle(\"Original Images\", fontsize=16)\n",
    "for i, index in enumerate(img_idx):\n",
    "    plt.subplot(5, 1, i+1)\n",
    "    imgplot = plt.imshow(data[index].reshape(SHAPE),cmap = 'gray' )\n",
    "plt.savefig('original/' +'img-'+ str(index)+'.jpg')"
   ]
  },
  {
   "cell_type": "code",
   "execution_count": 6,
   "metadata": {},
   "outputs": [],
   "source": [
    "mean = data.mean(axis = 0)\n",
    "data_zero_centered  = data - mean"
   ]
  },
  {
   "cell_type": "code",
   "execution_count": 7,
   "metadata": {},
   "outputs": [],
   "source": [
    "def compute_z(W, a):\n",
    "    M = np.dot(np.transpose(W), W)\n",
    "    return np.dot(np.linalg.inv(M), np.dot(np.transpose(W) , a) )"
   ]
  },
  {
   "cell_type": "code",
   "execution_count": 8,
   "metadata": {},
   "outputs": [],
   "source": [
    "def compute_W(Z, data_zero_centered):\n",
    "    a = np.zeros((size_x, size_z))\n",
    "    b = np.zeros((size_z, size_z))\n",
    "    for i in range(INSTANCES):\n",
    "        a = a +np.dot(data_zero_centered[i].reshape((size_x, 1)) ,np.transpose(Z[i].reshape((size_z, 1)) )  )\n",
    "        b = b + np.dot( Z[i].reshape((size_z, 1))  , np.transpose(Z[i].reshape((size_z, 1)) ))\n",
    "    return np.dot(a, np.linalg.inv(b))"
   ]
  },
  {
   "cell_type": "code",
   "execution_count": 21,
   "metadata": {},
   "outputs": [],
   "source": [
    "for k in kls:\n",
    "    size_z = k\n",
    "    W = np.random.normal(size=(size_x, size_z))\n",
    "    Z = np.zeros((165, size_z))\n",
    "    for itera in range(ITER):\n",
    "        for i in range(165):\n",
    "            Z[i] = compute_z(W, data_zero_centered[i])\n",
    "        W = compute_W(Z, data_zero_centered)\n",
    "    \n",
    "    #plotting images\n",
    "    fig = plt.figure()\n",
    "    fig.suptitle(\"Reconstructed Images for K = \" + str(k) , fontsize=16)\n",
    "    for idx, i in enumerate(img_idx):\n",
    "        plt.subplot(5,1, idx + 1)\n",
    "        imgplot = plt.imshow((mean  +  np.dot(W, Z[i])).reshape(SHAPE),cmap = 'gray' )\n",
    "    plt.savefig(str(k) + '/' + 'reconstructed-' + str(k) + '.jpg')\n",
    "    plt.close()\n",
    "    #plotting basis\n",
    "    fig = plt.figure()\n",
    "    fig.suptitle(\"Basis Images for K = \" + str(k) , fontsize=16)\n",
    "    for basis in range(10):\n",
    "        plt.subplot(5,2, basis + 1)\n",
    "        imgplot = plt.imshow(( W[:, basis]).reshape(SHAPE),cmap = 'gray' )\n",
    "    plt.savefig(str(k) + '/' + 'basis-' + str(k)  +'.jpg')\n",
    "    plt.close()"
   ]
  }
 ],
 "metadata": {
  "kernelspec": {
   "display_name": "Python 3",
   "language": "python",
   "name": "python3"
  },
  "language_info": {
   "codemirror_mode": {
    "name": "ipython",
    "version": 3
   },
   "file_extension": ".py",
   "mimetype": "text/x-python",
   "name": "python",
   "nbconvert_exporter": "python",
   "pygments_lexer": "ipython3",
   "version": "3.6.5"
  }
 },
 "nbformat": 4,
 "nbformat_minor": 2
}
