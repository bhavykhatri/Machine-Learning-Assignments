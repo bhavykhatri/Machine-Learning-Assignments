{
 "cells": [
  {
   "cell_type": "markdown",
   "metadata": {},
   "source": [
    "## Glass Dataset\n",
    "\n",
    "The experiment has been done on the following dataset: https://sci2s.ugr.es/keel/dataset.php?cod=142\n",
    "Key Points:\n",
    "1. Binary Classification\n",
    "2. 214 Datapointt"
   ]
  },
  {
   "cell_type": "markdown",
   "metadata": {},
   "source": [
    "## Without using validation dataset"
   ]
  },
  {
   "cell_type": "code",
   "execution_count": 32,
   "metadata": {},
   "outputs": [],
   "source": [
    "import matplotlib\n",
    "import matplotlib.pyplot as plt\n",
    "import numpy as np\n",
    "from sklearn.linear_model import LogisticRegression\n",
    "from sklearn import svm\n",
    "from sklearn import neighbors\n",
    "from sklearn import tree\n",
    "from sklearn.neural_network import MLPClassifier\n",
    "from sklearn.manifold import TSNE\n",
    "from sklearn.cluster import KMeans\n",
    "from sklearn.naive_bayes import GaussianNB"
   ]
  },
  {
   "cell_type": "code",
   "execution_count": 2,
   "metadata": {},
   "outputs": [],
   "source": [
    "#10% of the dataset has been reserved for the test split\n",
    "TEST_SPLIT = 0.9\n",
    "NB_CLASSES = 2"
   ]
  },
  {
   "cell_type": "code",
   "execution_count": 3,
   "metadata": {},
   "outputs": [],
   "source": [
    "X = []\n",
    "Y = []"
   ]
  },
  {
   "cell_type": "code",
   "execution_count": 4,
   "metadata": {},
   "outputs": [],
   "source": [
    "file = open('/home/bhavy/Dropbox/7th-semester/courses/ML/Assignments/self-experiments-on-different-datasets/glass-dataset-classification/glass1.dat', 'r')"
   ]
  },
  {
   "cell_type": "code",
   "execution_count": 5,
   "metadata": {},
   "outputs": [],
   "source": [
    "data = file.read()"
   ]
  },
  {
   "cell_type": "code",
   "execution_count": 6,
   "metadata": {},
   "outputs": [],
   "source": [
    "x = data.split('\\n')"
   ]
  },
  {
   "cell_type": "code",
   "execution_count": 7,
   "metadata": {
    "scrolled": true
   },
   "outputs": [],
   "source": [
    "for i in range(len(x) - 1):\n",
    "    flag = x[i].split(',')\n",
    "    #print(int(flag[0:-1]))\n",
    "    ls = list(map(float, flag[0:-1]))\n",
    "    X.append(ls)\n",
    "    if flag[-1] == ' negative':\n",
    "        Y.append(0)\n",
    "    else:\n",
    "        Y.append(1)"
   ]
  },
  {
   "cell_type": "code",
   "execution_count": 8,
   "metadata": {},
   "outputs": [],
   "source": [
    "# X and Y are features and labels\n",
    "X = np.array(X).reshape(len(X), 9)\n",
    "Y = np.array(Y).reshape(len(Y), 1)"
   ]
  },
  {
   "cell_type": "code",
   "execution_count": 9,
   "metadata": {},
   "outputs": [],
   "source": [
    "dat = np.hstack((X, Y))"
   ]
  },
  {
   "cell_type": "code",
   "execution_count": 10,
   "metadata": {},
   "outputs": [],
   "source": [
    "np.random.shuffle(dat)"
   ]
  },
  {
   "cell_type": "code",
   "execution_count": 11,
   "metadata": {
    "scrolled": true
   },
   "outputs": [],
   "source": [
    "X_train, y_train, X_test, y_test = dat[:int(TEST_SPLIT*len(dat)), :-1], dat[:int(TEST_SPLIT*len(dat)), -1], dat[int(TEST_SPLIT*len(dat)):, :-1], dat[int(TEST_SPLIT*len(dat)):, -1]"
   ]
  },
  {
   "cell_type": "code",
   "execution_count": 12,
   "metadata": {},
   "outputs": [
    {
     "data": {
      "text/plain": [
       "0.5909090909090909"
      ]
     },
     "execution_count": 12,
     "metadata": {},
     "output_type": "execute_result"
    }
   ],
   "source": [
    "#using logistic regression \n",
    "model = LogisticRegression(random_state=0, solver='lbfgs', max_iter=100)\n",
    "clf =  model.fit(X_train, y_train)\n",
    "clf.score(X_test, y_test)"
   ]
  },
  {
   "cell_type": "code",
   "execution_count": 13,
   "metadata": {},
   "outputs": [
    {
     "data": {
      "text/plain": [
       "0.8181818181818182"
      ]
     },
     "execution_count": 13,
     "metadata": {},
     "output_type": "execute_result"
    }
   ],
   "source": [
    "#using support vector maching\n",
    "clf = svm.SVC(random_state=0)\n",
    "clf.fit(X_train, y_train)\n",
    "clf.score(X_test, y_test)"
   ]
  },
  {
   "cell_type": "code",
   "execution_count": 14,
   "metadata": {
    "scrolled": false
   },
   "outputs": [
    {
     "data": {
      "text/plain": [
       "0.7727272727272727"
      ]
     },
     "execution_count": 14,
     "metadata": {},
     "output_type": "execute_result"
    }
   ],
   "source": [
    "#using k-nearest neighbours\n",
    "clf = neighbors.KNeighborsClassifier(NB_CLASSES)\n",
    "clf.fit(X_train, y_train)\n",
    "clf.score(X_test, y_test)"
   ]
  },
  {
   "cell_type": "code",
   "execution_count": 15,
   "metadata": {},
   "outputs": [
    {
     "data": {
      "text/plain": [
       "0.8181818181818182"
      ]
     },
     "execution_count": 15,
     "metadata": {},
     "output_type": "execute_result"
    }
   ],
   "source": [
    "#using decision tree\n",
    "clf = tree.DecisionTreeClassifier()\n",
    "clf.fit(X_train, y_train)\n",
    "clf.score(X_test, y_test)"
   ]
  },
  {
   "cell_type": "code",
   "execution_count": 16,
   "metadata": {
    "scrolled": true
   },
   "outputs": [
    {
     "data": {
      "text/plain": [
       "0.7727272727272727"
      ]
     },
     "execution_count": 16,
     "metadata": {},
     "output_type": "execute_result"
    }
   ],
   "source": [
    "clf = MLPClassifier(solver='lbfgs', alpha=1e-5, hidden_layer_sizes=(20, 200), random_state=1)\n",
    "clf.fit(X_train, y_train)\n",
    "clf.score(X_test, y_test)"
   ]
  },
  {
   "cell_type": "code",
   "execution_count": 33,
   "metadata": {},
   "outputs": [
    {
     "data": {
      "text/plain": [
       "0.7727272727272727"
      ]
     },
     "execution_count": 33,
     "metadata": {},
     "output_type": "execute_result"
    }
   ],
   "source": [
    "clf = GaussianNB()\n",
    "clf.fit(X_train, y_train)\n",
    "clf.score(X_test, y_test)"
   ]
  },
  {
   "cell_type": "code",
   "execution_count": 34,
   "metadata": {},
   "outputs": [],
   "source": [
    "dic = {\"Logitstic \\nRegression\":  0.6363636363636364,\n",
    "      \"Support \\nvector\": 0.7727272727272727,\n",
    "      \"K-Nearest \\n Neighbour\": 0.9090909090909091,\n",
    "      \"Decision \\n Tree\": 0.7272727272727273,\n",
    "      \"Neural \\n Network\": 0.8181818181818182,\n",
    "      \"Gaussian \\n Naive Bayes\": 0.7727272727272727}"
   ]
  },
  {
   "cell_type": "code",
   "execution_count": 36,
   "metadata": {},
   "outputs": [
    {
     "data": {
      "image/png": "[encoded data removed]",
      "text/plain": [
       "<Figure size 432x288 with 1 Axes>"
      ]
     },
     "metadata": {},
     "output_type": "display_data"
    }
   ],
   "source": [
    "ls = []\n",
    "ls2 = []\n",
    "for idx, data_dict in enumerate(dic.items()):\n",
    "    x = data_dict[0]\n",
    "    y = data_dict[1]\n",
    "    ls.append(x)\n",
    "    ls2.append(y)\n",
    "    \n",
    "plt.plot(np.arange(6), ls2, '--go')\n",
    "plt.xticks(np.arange(6), ls)\n",
    "plt.ylabel('Accuracy')\n",
    "plt.title('Model vs Accuracy (without using validation data)')\n",
    "plt.savefig('Model-vs-Accuracy-(without-using-validation-data).png')"
   ]
  },
  {
   "cell_type": "code",
   "execution_count": 19,
   "metadata": {},
   "outputs": [],
   "source": [
    "X_embedded = TSNE(n_components=2).fit_transform(X)"
   ]
  },
  {
   "cell_type": "code",
   "execution_count": 20,
   "metadata": {},
   "outputs": [],
   "source": [
    "clf = KMeans(n_clusters=2, random_state=0)\n",
    "kmeans = clf.fit(X)"
   ]
  },
  {
   "cell_type": "code",
   "execution_count": 21,
   "metadata": {},
   "outputs": [],
   "source": [
    "label = kmeans.labels_"
   ]
  },
  {
   "cell_type": "code",
   "execution_count": 22,
   "metadata": {
    "scrolled": true
   },
   "outputs": [
    {
     "data": {
      "image/png": "[encoded data removed]",
      "text/plain": [
       "<Figure size 432x288 with 1 Axes>"
      ]
     },
     "metadata": {},
     "output_type": "display_data"
    }
   ],
   "source": [
    "colors = ['red','green']\n",
    "plt.scatter(X_embedded[:,0 ],X_embedded[:, 1], c = label, cmap=matplotlib.colors.ListedColormap(colors) )\n",
    "plt.title(\"Dimensionality Reduction of data using t-SNE\")\n",
    "plt.xlabel('Embedded feature 1')\n",
    "plt.ylabel('Embedded feature 2')\n",
    "plt.savefig('Features-in-reduced-dimension.png')"
   ]
  },
  {
   "cell_type": "markdown",
   "metadata": {},
   "source": [
    "## using validation data and hyperparameter optimization\n",
    "\n",
    "https://scikit-learn.org/stable/modules/cross_validation.html"
   ]
  },
  {
   "cell_type": "code",
   "execution_count": 38,
   "metadata": {},
   "outputs": [],
   "source": [
    "from sklearn.model_selection import cross_val_score"
   ]
  },
  {
   "cell_type": "code",
   "execution_count": 39,
   "metadata": {},
   "outputs": [],
   "source": [
    "ls2 = []"
   ]
  },
  {
   "cell_type": "code",
   "execution_count": 40,
   "metadata": {},
   "outputs": [
    {
     "name": "stdout",
     "output_type": "stream",
     "text": [
      "Mean Accuracy using 5-fold cross validation is: 0.63  with standard deviation is : 0.02192912279578913\n"
     ]
    }
   ],
   "source": [
    "#using logistic regression \n",
    "clf = LogisticRegression( random_state=0, solver='lbfgs', max_iter=100)\n",
    "scores = cross_val_score(clf, X_train, y_train, cv=5)\n",
    "print(\"Mean Accuracy using 5-fold cross validation is:\", scores.mean(), \" with standard deviation is :\", scores.std())\n",
    "ls2.append(scores.mean())"
   ]
  },
  {
   "cell_type": "code",
   "execution_count": 41,
   "metadata": {},
   "outputs": [
    {
     "name": "stdout",
     "output_type": "stream",
     "text": [
      "Mean Accuracy using 5-fold cross validation is: 0.7555263157894737  with standard deviation is : 0.08126595304710173\n"
     ]
    }
   ],
   "source": [
    "clf = svm.SVC(random_state=0)\n",
    "scores = cross_val_score(clf, X_train, y_train, cv=5)\n",
    "print(\"Mean Accuracy using 5-fold cross validation is:\", scores.mean(), \" with standard deviation is :\", scores.std())\n",
    "ls2.append(scores.mean())"
   ]
  },
  {
   "cell_type": "code",
   "execution_count": 42,
   "metadata": {
    "scrolled": true
   },
   "outputs": [
    {
     "name": "stdout",
     "output_type": "stream",
     "text": [
      "Mean Accuracy using 5-fold cross validation is: 0.7855263157894739  with standard deviation is : 0.07105263157894735\n"
     ]
    }
   ],
   "source": [
    "clf = neighbors.KNeighborsClassifier(NB_CLASSES)\n",
    "scores = cross_val_score(clf, X_train, y_train, cv=5)\n",
    "print(\"Mean Accuracy using 5-fold cross validation is:\", scores.mean(), \" with standard deviation is :\", scores.std())\n",
    "ls2.append(scores.mean())"
   ]
  },
  {
   "cell_type": "code",
   "execution_count": 43,
   "metadata": {},
   "outputs": [
    {
     "name": "stdout",
     "output_type": "stream",
     "text": [
      "Mean Accuracy using 5-fold cross validation is: 0.713157894736842  with standard deviation is : 0.08421052631578946\n"
     ]
    }
   ],
   "source": [
    "clf = tree.DecisionTreeClassifier()\n",
    "scores = cross_val_score(clf, X_train, y_train, cv=5)\n",
    "print(\"Mean Accuracy using 5-fold cross validation is:\", scores.mean(), \" with standard deviation is :\", scores.std())\n",
    "ls2.append(scores.mean())"
   ]
  },
  {
   "cell_type": "code",
   "execution_count": 44,
   "metadata": {},
   "outputs": [
    {
     "name": "stdout",
     "output_type": "stream",
     "text": [
      "Mean Accuracy using 5-fold cross validation is: 0.6976315789473684  with standard deviation is : 0.1177477937639941\n"
     ]
    }
   ],
   "source": [
    "clf = MLPClassifier(solver='lbfgs', alpha=1e-5, hidden_layer_sizes=(20, 200), random_state=1)\n",
    "scores = cross_val_score(clf, X_train, y_train, cv=5)\n",
    "print(\"Mean Accuracy using 5-fold cross validation is:\", scores.mean(), \" with standard deviation is :\", scores.std())\n",
    "ls2.append(scores.mean())"
   ]
  },
  {
   "cell_type": "code",
   "execution_count": 45,
   "metadata": {},
   "outputs": [
    {
     "name": "stdout",
     "output_type": "stream",
     "text": [
      "Mean Accuracy using 5-fold cross validation is: 0.608157894736842  with standard deviation is : 0.09462127453996733\n"
     ]
    }
   ],
   "source": [
    "clf = GaussianNB()\n",
    "scores = cross_val_score(clf, X_train, y_train, cv=5)\n",
    "print(\"Mean Accuracy using 5-fold cross validation is:\", scores.mean(), \" with standard deviation is :\", scores.std())\n",
    "ls2.append(scores.mean())"
   ]
  },
  {
   "cell_type": "code",
   "execution_count": 46,
   "metadata": {},
   "outputs": [
    {
     "data": {
      "image/png": "[encoded data removed]",
      "text/plain": [
       "<Figure size 432x288 with 1 Axes>"
      ]
     },
     "metadata": {},
     "output_type": "display_data"
    }
   ],
   "source": [
    "plt.plot(np.arange(6), ls2, '--go')\n",
    "plt.xticks(np.arange(6), ls)\n",
    "plt.ylabel('validation Accuracy')\n",
    "plt.title('Model vs Accuracy (with using validation data)')\n",
    "plt.savefig('Model-vs-Accuracy-(with-using-validation-data).png')"
   ]
  },
  {
   "cell_type": "markdown",
   "metadata": {},
   "source": [
    "### Look how using the cross validation changed the performance of model. Earlier we have directly used our model on the test data without using validation data. Now we have checked our performance only on validation data and reserved the test data for final test. Cross validation is helpful in terms  of model selection"
   ]
  },
  {
   "cell_type": "markdown",
   "metadata": {},
   "source": [
    "## Evaluation metrics\n",
    "\n",
    "1. accuracy \n",
    "2. recall\n",
    "3. precision"
   ]
  },
  {
   "cell_type": "markdown",
   "metadata": {},
   "source": [
    "## Hyperparameter tuning\n",
    "\n",
    "https://scikit-learn.org/stable/modules/grid_search.html"
   ]
  },
  {
   "cell_type": "code",
   "execution_count": 31,
   "metadata": {},
   "outputs": [
    {
     "data": {
      "text/plain": [
       "{'activation': 'relu',\n",
       " 'alpha': 1e-05,\n",
       " 'batch_size': 'auto',\n",
       " 'beta_1': 0.9,\n",
       " 'beta_2': 0.999,\n",
       " 'early_stopping': False,\n",
       " 'epsilon': 1e-08,\n",
       " 'hidden_layer_sizes': (20, 200),\n",
       " 'learning_rate': 'constant',\n",
       " 'learning_rate_init': 0.001,\n",
       " 'max_iter': 200,\n",
       " 'momentum': 0.9,\n",
       " 'nesterovs_momentum': True,\n",
       " 'power_t': 0.5,\n",
       " 'random_state': 1,\n",
       " 'shuffle': True,\n",
       " 'solver': 'lbfgs',\n",
       " 'tol': 0.0001,\n",
       " 'validation_fraction': 0.1,\n",
       " 'verbose': False,\n",
       " 'warm_start': False}"
      ]
     },
     "execution_count": 31,
     "metadata": {},
     "output_type": "execute_result"
    }
   ],
   "source": [
    "clf.get_params()"
   ]
  }
 ],
 "metadata": {
  "kernelspec": {
   "display_name": "Python 3",
   "language": "python",
   "name": "python3"
  },
  "language_info": {
   "codemirror_mode": {
    "name": "ipython",
    "version": 3
   },
   "file_extension": ".py",
   "mimetype": "text/x-python",
   "name": "python",
   "nbconvert_exporter": "python",
   "pygments_lexer": "ipython3",
   "version": "3.6.5"
  }
 },
 "nbformat": 4,
 "nbformat_minor": 2
}
